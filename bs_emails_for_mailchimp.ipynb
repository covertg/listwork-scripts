{
 "cells": [
  {
   "cell_type": "markdown",
   "metadata": {},
   "source": [
    "When members have multiple email addresses on file, Broadstripes exports them all. By default, each email is in a different row. For many members, we even have multiple Dartmouth emails on file. Meanwhile, Mailchimp only allows one email per contact. It's a bit of a mess.\n",
    "\n",
    "Some manual trial and error shows that Broadstripes seems to always list the member's \"Primary\" email first. So this script prunes the exported contact list to keep only the first Dart email for each member."
   ]
  },
  {
   "cell_type": "code",
   "execution_count": 4,
   "metadata": {},
   "outputs": [],
   "source": [
    "import pandas as pd\n",
    "from pathlib import Path\n",
    "\n",
    "infile = Path(\"data/Contact Info for Export.csv\")\n",
    "df = pd.read_csv(infile)\n",
    "\n",
    "# Drop non-Dartmouth emails and aggregate by Broadstripes ID\n",
    "emails = df[\"Email\"]\n",
    "df_dart = df[~emails.isnull() & emails.str.contains(\"dartmouth.edu\", case=False)]\n",
    "df_dart = df_dart.groupby(\"Broadstripes ID\")\n",
    "\n",
    "# Uncomment to see all the contacts that do have multiple Dart emails on file\n",
    "# agg = df_dart.agg(func=list).reset_index()\n",
    "# dups = agg.loc[[len(e) > 1 for e in agg[\"Email\"]]]\n",
    "# dups.to_csv(\"dups.csv\", index=False)\n",
    "\n",
    "# Keep only the first Dartmouth email for each ID\n",
    "df_dart = df_dart.first().reset_index()\n",
    "assert (df_dart[\"Broadstripes ID\"].sort_values() == pd.Series(sorted(df[\"Broadstripes ID\"].unique()))).all()\n",
    "\n",
    "df_dart = df_dart[[\n",
    "    \"Nickname\",\n",
    "    \"Last Name\",\n",
    "    \"Phone\",\n",
    "    \"Email\"\n",
    "]]\n",
    "\n",
    "outfile = infile.parent / (infile.stem + \" - Pruned for Mailchimp.csv\")\n",
    "df_dart.to_csv(outfile, index=False)"
   ]
  }
 ],
 "metadata": {
  "kernelspec": {
   "display_name": "env-pmb312",
   "language": "python",
   "name": "python3"
  },
  "language_info": {
   "codemirror_mode": {
    "name": "ipython",
    "version": 3
   },
   "file_extension": ".py",
   "mimetype": "text/x-python",
   "name": "python",
   "nbconvert_exporter": "python",
   "pygments_lexer": "ipython3",
   "version": "3.12.8"
  }
 },
 "nbformat": 4,
 "nbformat_minor": 2
}
